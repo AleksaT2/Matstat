{
 "cells": [
  {
   "cell_type": "code",
   "execution_count": 73,
   "metadata": {},
   "outputs": [],
   "source": [
    "import numpy as np\n",
    "import matplotlib.pyplot as plt\n",
    "from scipy.integrate import quad\n",
    "import math"
   ]
  },
  {
   "cell_type": "code",
   "execution_count": 74,
   "metadata": {},
   "outputs": [],
   "source": [
    "def NormDistribution_px(x, a, s2):\n",
    "        return (1/np.sqrt(2 * np.pi * s2) * np.exp(-1 * (x - a)**2 / (2*s2)))\n",
    "\n",
    "def NormDistribution_Fx(x, a, s2):\n",
    "    i, e = quad(NormDistribution_px, -np.inf, x, args = (a,s2))\n",
    "    return i\n",
    "\n",
    "def FisherDistribution_px(x, n, m):\n",
    "    return n**(n/2) * m**(m/2) * x**(n/2 - 1) * math.gamma((n+m)/2) / ( (m+n*x)**((n+m)/2) * math.gamma(n/2) * math.gamma(m/2) )\n",
    "\n",
    "def F_empir(v, prom):\n",
    "    n = len(v)\n",
    "    x = prom\n",
    "    F_tilda = np.array([len(np.where(v < i)[0])/n for i in x])\n",
    "    return F_tilda"
   ]
  },
  {
   "cell_type": "markdown",
   "metadata": {},
   "source": [
    "# T1"
   ]
  },
  {
   "cell_type": "code",
   "execution_count": 75,
   "metadata": {},
   "outputs": [],
   "source": [
    "def pr(M, digit = 3):\n",
    "    n, m = M.shape\n",
    "    for i in np.arange(n):\n",
    "        for j in np.arange(m):\n",
    "            print('%.3f' % M[i,j], end = \"  \")\n",
    "        print()"
   ]
  },
  {
   "cell_type": "code",
   "execution_count": 76,
   "metadata": {},
   "outputs": [],
   "source": [
    "n = 50\n",
    "p = 5\n",
    "x = np.zeros((n, p + 1))"
   ]
  },
  {
   "cell_type": "code",
   "execution_count": 77,
   "metadata": {
    "scrolled": true
   },
   "outputs": [
    {
     "name": "stdout",
     "output_type": "stream",
     "text": [
      "ksi_1,   ksi_2,   ksi_3,   ksi_4,   ksi_5,   eta\n",
      "0.509  -0.507  -0.353  0.268  -0.659  4.111  \n",
      "0.343  -0.205  -0.060  -0.932  0.305  5.234  \n",
      "-0.384  0.934  0.737  -0.275  0.207  0.215  \n",
      "0.661  -0.902  0.072  0.805  0.808  6.160  \n",
      "-0.694  0.591  -0.864  -0.268  0.592  -3.839  \n",
      "0.044  0.988  -0.371  0.170  -0.369  1.877  \n",
      "-0.680  0.634  -0.310  -0.010  0.016  -2.195  \n",
      "-0.968  -0.224  -0.568  -0.579  0.566  -0.961  \n",
      "-0.156  -0.515  0.059  0.561  -0.772  5.636  \n",
      "-0.080  -0.768  -0.989  -0.584  0.617  -0.326  \n",
      "-0.546  0.332  -0.243  -0.611  -0.997  2.364  \n",
      "0.981  0.117  -0.668  0.452  -0.302  4.269  \n",
      "0.429  0.993  0.662  0.845  -0.905  6.054  \n",
      "0.667  0.695  -0.970  0.299  -0.517  3.712  \n",
      "0.827  0.325  0.527  -0.976  -0.609  2.442  \n",
      "0.767  -0.587  -0.907  -0.192  -0.657  2.333  \n",
      "0.148  0.320  -0.877  0.542  -0.114  3.918  \n",
      "0.620  0.794  -0.227  -0.700  0.194  1.091  \n",
      "-0.688  -0.116  0.634  -0.641  0.909  -5.962  \n",
      "0.976  0.953  0.027  0.588  0.905  5.581  \n",
      "0.842  0.462  -0.444  0.474  -0.291  4.238  \n",
      "0.111  -0.509  -0.271  0.101  -0.624  4.041  \n",
      "-0.760  0.129  0.366  -0.050  -0.540  4.926  \n",
      "-0.890  0.091  -0.301  0.199  -0.080  -1.036  \n",
      "0.713  0.772  0.573  0.317  -0.399  5.238  \n",
      "-0.921  0.944  -0.891  0.938  0.253  -3.624  \n",
      "0.425  -0.809  0.204  0.411  -0.581  8.057  \n",
      "0.611  0.627  0.292  -0.598  -0.092  3.513  \n",
      "-0.672  -0.015  -0.051  0.508  -0.071  -0.899  \n",
      "0.176  0.933  0.078  -0.709  -0.103  0.744  \n",
      "-0.273  -0.416  0.130  -0.985  -0.018  -0.384  \n",
      "-0.138  0.308  0.743  0.952  0.865  2.123  \n",
      "0.626  0.781  0.821  0.393  -0.695  4.059  \n",
      "0.648  -0.357  -0.925  0.055  -0.837  1.403  \n",
      "0.017  0.926  -0.283  0.910  0.313  -3.803  \n",
      "0.191  -0.969  0.418  0.463  0.542  3.239  \n",
      "0.969  -0.917  0.978  -0.649  -0.737  3.348  \n",
      "-0.820  0.796  -0.325  0.387  0.066  -3.282  \n",
      "-0.779  -0.703  0.990  -0.036  0.060  5.056  \n",
      "0.986  0.482  0.248  -0.069  0.329  2.321  \n",
      "-0.597  0.285  -0.709  -0.724  0.072  -1.238  \n",
      "-0.701  -0.796  -0.045  0.329  -0.430  1.792  \n",
      "0.426  -0.138  0.121  0.282  0.000  3.931  \n",
      "0.879  0.374  0.873  0.088  -0.539  4.712  \n",
      "0.852  0.175  0.503  0.061  0.908  6.034  \n",
      "0.346  -0.656  0.677  0.295  -0.136  3.070  \n",
      "-0.343  0.988  0.126  -0.496  0.958  -2.428  \n",
      "0.787  -0.442  0.721  0.819  0.035  7.979  \n",
      "-0.188  -0.461  0.858  -0.679  0.798  3.264  \n",
      "-0.512  -0.933  0.823  -0.282  -0.962  1.608  \n"
     ]
    }
   ],
   "source": [
    "\n",
    "for i in np.arange(n):\n",
    "    ksi = np.random.uniform(-1, 1, p)\n",
    "    eta = np.random.normal(2 + 3*ksi[0] - 2*ksi[1] + ksi[2] + ksi[3] - ksi[4], 1.5**2)\n",
    "    xi = np.append(ksi, eta)\n",
    "    x[i] = xi\n",
    "\n",
    "print(\"ksi_1,   ksi_2,   ksi_3,   ksi_4,   ksi_5,   eta\")\n",
    "pr(x)"
   ]
  },
  {
   "cell_type": "markdown",
   "metadata": {},
   "source": [
    "## a) "
   ]
  },
  {
   "cell_type": "code",
   "execution_count": 78,
   "metadata": {},
   "outputs": [
    {
     "name": "stdout",
     "output_type": "stream",
     "text": [
      "R2[0] = 0.06864113946833283, DT[0] = 0.06768366503584033\n",
      "R2[1] = 0.043459699256869655, DT[1] = 0.04172533940732146\n",
      "R2[2] = 0.04559349656436362, DT[2] = 0.04387184949678054\n",
      "R2[3] = 0.026831257956690946, DT[3] = 0.025320327421305088\n",
      "R2[4] = 0.04956072164017444, DT[4] = 0.04788832856697944\n"
     ]
    }
   ],
   "source": [
    "n = 50\n",
    "p = 5\n",
    "R2 = np.zeros(p)\n",
    "DT = np.zeros(p)\n",
    "\n",
    "for ksi in np.arange(p):   \n",
    "    # матрицу наблюдений заполняем единицами и значениями оставшихся переменных     \n",
    "    psi = np.zeros((n,p))\n",
    "    psi[:, ksi] = 1\n",
    "    for i in np.arange(0,p):\n",
    "        if i == ksi:\n",
    "            continue\n",
    "        psi[:, i] = x[:, i]\n",
    "    \n",
    "    # вектор отклика     \n",
    "    Y = np.zeros((n,1))\n",
    "    Y[:,0] = x[:,ksi]\n",
    "    \n",
    "    # матрица Фишера\n",
    "    F = np.dot(np.transpose(psi), psi)\n",
    "    Fisher = np.linalg.inv(F)\n",
    "    \n",
    "    # коэффициенты линейной регрессии\n",
    "    betta_tilda = np.dot(Fisher, np.dot(np.transpose(psi),Y))\n",
    "    \n",
    "    # вектор ошибок в эксперименте\n",
    "    e = Y - np.dot(psi, betta_tilda)\n",
    "    \n",
    "    # остаточная сумма квадратов \n",
    "    RSS = np.dot(np.transpose(e), e)[0][0]\n",
    "    \n",
    "    # полная сумма квадратов - дисперсия отклика \n",
    "    TSS = ((Y - Y.mean())**2).sum()\n",
    "    \n",
    "    # коэффициент детерминации     \n",
    "    R2[ksi] = 1 - RSS/TSS\n",
    "    \n",
    "    # критерий значимости регрессии    \n",
    "    DT[ksi] = R2[ksi]/(1-R2[ksi]) * (n-p)/(n-1)\n",
    "\n",
    "for i in np.arange(p):\n",
    "    print(f\"R2[{i}] = {R2[i]}, DT[{i}] = {DT[i]}\")"
   ]
  },
  {
   "cell_type": "markdown",
   "metadata": {},
   "source": [
    "## b) "
   ]
  },
  {
   "cell_type": "code",
   "execution_count": 79,
   "metadata": {
    "scrolled": true
   },
   "outputs": [
    {
     "name": "stdout",
     "output_type": "stream",
     "text": [
      "betta[0] = 1.9111242856739787\n",
      "betta[1] = 2.7639371367339516\n",
      "betta[2] = -1.2972145849867454\n",
      "betta[3] = 1.3519864118969045\n",
      "betta[4] = 1.2870300233560963\n",
      "betta[5] = -1.1392351019546971\n"
     ]
    }
   ],
   "source": [
    "# 1) уравнения линейной регрессии\n",
    "n = 50\n",
    "p = 6\n",
    "\n",
    "psi = np.zeros((n,p))\n",
    "psi[:,0] = 1\n",
    "psi[:, 1:] = x[:,:-1]\n",
    "\n",
    "Y = np.zeros((n,1))\n",
    "Y[:,0] = x[:,-1]\n",
    "\n",
    "F = np.dot(np.transpose(psi), psi)\n",
    "Fisher = np.linalg.inv(F)\n",
    "\n",
    "betta_coefficient = np.dot(Fisher, np.dot(np.transpose(psi),Y))\n",
    "\n",
    "for i in range(p):\n",
    "    print(f\"betta[{i}] = {betta_coefficient[i][0]}\")"
   ]
  },
  {
   "cell_type": "code",
   "execution_count": 80,
   "metadata": {},
   "outputs": [
    {
     "name": "stdout",
     "output_type": "stream",
     "text": [
      "delta[0] = 6.28837434404563\n",
      "delta[1] = 5.668040398272568\n",
      "delta[2] = -2.7394420047618055\n",
      "delta[3] = 2.6272850774450283\n",
      "delta[4] = 2.360549904026564\n",
      "delta[5] = -2.104591471796483\n",
      "\n",
      "Для распределения Стьюдента с числом степеней свободы 44, чтобы p-value было больше 0.05, нужно, чтобы  модуль \n",
      "критерия был меньше 2.015368\n",
      "\n",
      "betta[0] значимо отличен от нуля\n",
      "betta[1] значимо отличен от нуля\n",
      "betta[2] значимо отличен от нуля\n",
      "betta[3] значимо отличен от нуля\n",
      "betta[4] значимо отличен от нуля\n",
      "betta[5] значимо отличен от нуля\n"
     ]
    }
   ],
   "source": [
    "# 2) проверка значимости коэффициентов\n",
    "e = Y - np.dot(psi, betta_coefficient)\n",
    "RSS = np.dot(np.transpose(e), e)[0][0]\n",
    "\n",
    "betta_significance_coefficient = np.zeros(p)\n",
    "for i in range(p):\n",
    "    betta_significance_coefficient[i] = betta_coefficient[i][0] * np.sqrt(n-p) / np.sqrt(RSS * Fisher[i,i])\n",
    "    print(f\"delta[{i}] = {betta_significance_coefficient[i]}\")\n",
    "    \n",
    "delta_krit = 2.015368\n",
    "print()\n",
    "print(f\"Для распределения Стьюдента с числом степеней свободы {n-p}, чтобы p-value было больше 0.05, нужно, чтобы  модуль \\nкритерия был меньше {delta_krit}\")\n",
    "print()\n",
    "\n",
    "for i in range(p):\n",
    "    if np.abs(betta_significance_coefficient[i]) <= np.abs(delta_krit):\n",
    "        print(f\"betta[{i}] не значимо отличен от нуля\")\n",
    "    else:\n",
    "        print(f\"betta[{i}] значимо отличен от нуля\")"
   ]
  },
  {
   "cell_type": "markdown",
   "metadata": {},
   "source": [
    "## c) "
   ]
  },
  {
   "cell_type": "code",
   "execution_count": 81,
   "metadata": {},
   "outputs": [],
   "source": [
    "n = 50\n",
    "p = 6\n",
    "\n",
    "RSS = np.dot(np.transpose(e), e)[0][0]\n",
    "TSS = ((Y - Y.mean())**2).sum()\n",
    "alpha = 0.05\n"
   ]
  },
  {
   "cell_type": "code",
   "execution_count": 82,
   "metadata": {},
   "outputs": [
    {
     "name": "stdout",
     "output_type": "stream",
     "text": [
      "R2 = 0.628570512305684\n"
     ]
    }
   ],
   "source": [
    "R2 = 1 - RSS/TSS\n",
    "print(\"R2 =\", R2)\n"
   ]
  },
  {
   "cell_type": "code",
   "execution_count": 83,
   "metadata": {},
   "outputs": [
    {
     "name": "stdout",
     "output_type": "stream",
     "text": [
      "delta = 14.892249246625084  распределена по F(5,44)\n"
     ]
    }
   ],
   "source": [
    "delta_tilda = R2/(1-R2) * (n-p)/(p-1)\n",
    "print(\"delta =\", delta_tilda, f\" распределена по F({p-1},{n-p})\")\n"
   ]
  },
  {
   "cell_type": "code",
   "execution_count": 84,
   "metadata": {},
   "outputs": [
    {
     "name": "stdout",
     "output_type": "stream",
     "text": [
      "p_value = 1.5044175395443127e-08\n"
     ]
    }
   ],
   "source": [
    "p_value, _ = quad(FisherDistribution_px, delta_tilda, +np.inf, args=(p-1,n-p))\n",
    "print(\"p_value =\", p_value)"
   ]
  },
  {
   "cell_type": "code",
   "execution_count": 85,
   "metadata": {},
   "outputs": [
    {
     "name": "stdout",
     "output_type": "stream",
     "text": [
      "Уравнение регрессии значимо\n",
      "Уравнение регрессии объясняет разброс отклика на 62.857051230568395 % \n"
     ]
    }
   ],
   "source": [
    "if p_value <= alpha:\n",
    "    print(\"Уравнение регрессии значимо\")\n",
    "    print(f\"Уравнение регрессии объясняет разброс отклика на {R2*100} % \")\n",
    "else:\n",
    "    print(\"Уравнение регрессии не значимо\")"
   ]
  },
  {
   "cell_type": "code",
   "execution_count": 86,
   "metadata": {},
   "outputs": [
    {
     "data": {
      "text/plain": [
       "<matplotlib.collections.LineCollection at 0x18ea9675460>"
      ]
     },
     "execution_count": 86,
     "metadata": {},
     "output_type": "execute_result"
    },
    {
     "data": {
      "image/png": "[encoded data removed]",
      "text/plain": [
       "<Figure size 432x288 with 1 Axes>"
      ]
     },
     "metadata": {
      "needs_background": "light"
     },
     "output_type": "display_data"
    }
   ],
   "source": [
    "t = np.linspace(0.01, 7, 1000)\n",
    "func = FisherDistribution_px(t, p-1, n-p)\n",
    "plt.plot(t, func, color = '#ff7514')\n",
    "plt.vlines(delta_tilda, func.min(), func.max(), color = '#ff7518')"
   ]
  },
  {
   "cell_type": "markdown",
   "metadata": {},
   "source": [
    "## d) \n"
   ]
  },
  {
   "cell_type": "code",
   "execution_count": 87,
   "metadata": {
    "scrolled": true
   },
   "outputs": [
    {
     "name": "stdout",
     "output_type": "stream",
     "text": [
      "В x_i = 0, значение = 1.9111242856739787\n",
      "95 % доверительный интервал для этого значения:[-2.3438998357521905, 6.166148407100148]\n"
     ]
    }
   ],
   "source": [
    "y0 = betta_coefficient[0][0]\n",
    "print(\"В x_i = 0, значение =\", y0)\n",
    "\n",
    "\n",
    "psi0 = np.array([1,0,0,0,0,0])\n",
    "t_gamma = 2.015368\n",
    " \n",
    "l = y0 - t_gamma*np.sqrt(1 + np.dot(psi0, np.dot(Fisher, np.transpose(psi0)))) * np.sqrt(RSS/(n-p))\n",
    "r = y0 + t_gamma*np.sqrt(1 + np.dot(psi0, np.dot(Fisher, np.transpose(psi0)))) * np.sqrt(RSS/(n-p))\n",
    "\n",
    "print(f\"95 % доверительный интервал для этого значения:[{l}, {r}]\")"
   ]
  },
  {
   "cell_type": "markdown",
   "metadata": {},
   "source": [
    "## e) "
   ]
  },
  {
   "cell_type": "code",
   "execution_count": 88,
   "metadata": {},
   "outputs": [],
   "source": [
    "def I (q):\n",
    "    n = len(q)\n",
    "    inv_count = 0\n",
    "    for i in np.arange(n):\n",
    "        for j in np.arange(i+1, n):\n",
    "            if q[i] > q[j]:\n",
    "                inv_count += 1\n",
    "    return inv_count"
   ]
  },
  {
   "cell_type": "code",
   "execution_count": 89,
   "metadata": {},
   "outputs": [
    {
     "name": "stdout",
     "output_type": "stream",
     "text": [
      "[[-0.48454791  3.73671034  0.16928768  1.03742907 -0.87793796  0.98751677\n",
      "  -0.9546331   1.67158416  1.80541497 -0.22002726  2.37316553 -0.22492195\n",
      "   1.23223529  1.19643465 -1.48303498 -1.73434473  2.37079198 -0.07534173\n",
      "  -5.11661707  2.44552318  0.2574688   0.68843591  4.23772687 -0.30966841\n",
      "   0.72029936 -1.47809675  2.45519519  0.99534163 -1.63828127  0.24563149\n",
      "  -1.00691285 -0.2515587  -0.9761567  -2.53638729 -4.99359632 -1.00187575\n",
      "  -3.75562287 -1.87746241  3.16131624 -1.56157886  0.84512604 -0.06699798\n",
      "   0.1384015  -1.0506396   2.27174572 -2.09740265 -0.55161081  1.33080394\n",
      "   1.89612439 -1.94445477]]\n",
      "Инверсий: 716\n",
      "delta =  1.756453244467384\n",
      "p_value = 0.07901104821492029\n",
      "Основная гипотеза: Ошибки независимы и имеют одинаковое распределение\n",
      "Нет оснований отвергнуть основную гипотезу\n"
     ]
    }
   ],
   "source": [
    "e = Y - np.dot(psi, betta_coefficient)\n",
    "print(np.transpose(e))\n",
    "\n",
    "i = I(e)\n",
    "print(\"Инверсий:\", i)\n",
    "\n",
    "delta_tilda = (i - n*(n-1)/4)/np.sqrt(n**3 / 36)\n",
    "print(\"delta = \", delta_tilda)\n",
    "\n",
    "p_value, _ = quad(NormDistribution_px, np.abs(delta_tilda), +np.inf, args=(0,1))\n",
    "p_value *= 2\n",
    "print(\"p_value =\", p_value)\n",
    "\n",
    "alpha = 0.05\n",
    "print(\"Основная гипотеза: Ошибки независимы и имеют одинаковое распределение\")\n",
    "if p_value > alpha:\n",
    "    print(\"Нет оснований отвергнуть основную гипотезу\")\n",
    "else:\n",
    "    print(\"Основная гипотеза отвергается\")"
   ]
  },
  {
   "cell_type": "markdown",
   "metadata": {},
   "source": [
    "## f) "
   ]
  },
  {
   "cell_type": "code",
   "execution_count": 90,
   "metadata": {
    "scrolled": true
   },
   "outputs": [
    {
     "data": {
      "text/plain": [
       "array([-0.48454791,  3.73671034,  0.16928768,  1.03742907, -0.87793796,\n",
       "        0.98751677, -0.9546331 ,  1.67158416,  1.80541497, -0.22002726,\n",
       "        2.37316553, -0.22492195,  1.23223529,  1.19643465, -1.48303498,\n",
       "       -1.73434473,  2.37079198, -0.07534173, -5.11661707,  2.44552318,\n",
       "        0.2574688 ,  0.68843591,  4.23772687, -0.30966841,  0.72029936,\n",
       "       -1.47809675,  2.45519519,  0.99534163, -1.63828127,  0.24563149,\n",
       "       -1.00691285, -0.2515587 , -0.9761567 , -2.53638729, -4.99359632,\n",
       "       -1.00187575, -3.75562287, -1.87746241,  3.16131624, -1.56157886,\n",
       "        0.84512604, -0.06699798,  0.1384015 , -1.0506396 ,  2.27174572,\n",
       "       -2.09740265, -0.55161081,  1.33080394,  1.89612439, -1.94445477])"
      ]
     },
     "execution_count": 90,
     "metadata": {},
     "output_type": "execute_result"
    }
   ],
   "source": [
    "error = np.transpose(e)[0]\n",
    "error"
   ]
  },
  {
   "cell_type": "code",
   "execution_count": 91,
   "metadata": {},
   "outputs": [
    {
     "name": "stdout",
     "output_type": "stream",
     "text": [
      " \n",
      "a = -1.2967404927621828e-15, s2 = 3.8413559706481455\n",
      "delta = 0.4211729717200039\n"
     ]
    },
    {
     "data": {
      "text/plain": [
       "[<matplotlib.lines.Line2D at 0x18eaad33bb0>]"
      ]
     },
     "execution_count": 91,
     "metadata": {},
     "output_type": "execute_result"
    },
    {
     "data": {
      "image/png": "[encoded data removed]",
      "text/plain": [
       "<Figure size 432x288 with 1 Axes>"
      ]
     },
     "metadata": {
      "needs_background": "light"
     },
     "output_type": "display_data"
    }
   ],
   "source": [
    "# 1) оценка параметров по выборке\n",
    "a1 = error.mean()\n",
    "a2 = (error**2).mean()\n",
    "\n",
    "a = a1\n",
    "s2 = a2 - a1**2\n",
    "print(f\" \\na = {a}, s2 = {s2}\")\n",
    "\n",
    "#посчитаем значение критерия\n",
    "Nnods = 100\n",
    "xx = np.linspace(-10, 10, Nnods)\n",
    "F_tilda = F_empir(error, xx)\n",
    "F = np.array([NormDistribution_Fx(xx[i], a, s2) for i in np.arange(Nnods)])\n",
    "\n",
    "delta_tilda = np.sqrt(n) * (np.abs(F - F_tilda)).max()\n",
    "print(\"delta =\", delta_tilda)\n",
    "\n",
    "plt.plot(xx, F, color = '#d53e07')\n",
    "plt.plot(xx, F_tilda, color = '#00008B')"
   ]
  },
  {
   "cell_type": "code",
   "execution_count": null,
   "metadata": {},
   "outputs": [],
   "source": [
    "# бутстрап\n",
    "\n",
    "N_but = 5000\n",
    "delta_list = np.empty(N_but)\n",
    "\n",
    "Nnods = 100\n",
    "xx_star = np.linspace(-10, 10, Nnods)\n",
    "\n",
    "for but_iter in np.arange(N_but):\n",
    "    xstar = np.random.normal(a, s2, n)\n",
    "    a_star = xstar.mean()\n",
    "    s2_star = (xstar**2).mean() - a_star**2\n",
    "    F_tilda = F_empir(xstar, xx_star)\n",
    "    F = np.array([NormDistribution_Fx(xx_star[i], a_star, s2_star) for i in np.arange(Nnods)])\n",
    "\n",
    "    delta_star = np.sqrt(n) * (np.abs(F - F_tilda)).max()\n",
    "    delta_list[but_iter] = delta_star\n",
    "\n",
    "delta_list = np.array(delta_list)"
   ]
  },
  {
   "cell_type": "code",
   "execution_count": 120,
   "metadata": {},
   "outputs": [
    {
     "name": "stdout",
     "output_type": "stream",
     "text": [
      "k = 1\n",
      "p_value =  1.0\n",
      "нет оснований отвергнуть гипотезу о нормальном распределении ошибок\n"
     ]
    },
    {
     "data": {
      "text/plain": [
       "<matplotlib.collections.LineCollection at 0x18eaadd6b20>"
      ]
     },
     "execution_count": 120,
     "metadata": {},
     "output_type": "execute_result"
    },
    {
     "data": {
      "image/png": "[encoded data removed]",
      "text/plain": [
       "<Figure size 432x288 with 1 Axes>"
      ]
     },
     "metadata": {
      "needs_background": "light"
     },
     "output_type": "display_data"
    }
   ],
   "source": [
    "delta_list = np.sort(delta_list)\n",
    "\n",
    "k = 1\n",
    "for i in np.arange(1, N_but):\n",
    "    if (delta_list[i-1] < delta_tilda) and (delta_tilda <= delta_list[i]):\n",
    "        k = i\n",
    "        break \n",
    "        \n",
    "p_value = 1 - (k-1)/N_but\n",
    "print(\"k =\",k)\n",
    "print(\"p_value = \", p_value)\n",
    "\n",
    "alpha = 0.05\n",
    "if p_value > alpha:\n",
    "    print(\"нет оснований отвергнуть гипотезу о нормальном распределении ошибок\")\n",
    "else:\n",
    "    print(\"гипотеза о нормальном распределении ошибок отвергается\")\n",
    "\n",
    "khist = int(1 + np.trunc(np.log2(N_but)))\n",
    "hist = np.histogram(delta_list, khist)\n",
    "\n",
    "plt.hist(delta_list, khist, color = '#F4A460')\n",
    "plt.yticks([hist[0][i] for i in range(1,khist,2)])\n",
    "plt.xticks([hist[1][i] for i in range(0,khist,2)])\n",
    "plt.vlines(delta_tilda, 0, hist[0].max(), color = '#4B0082')"
   ]
  },
  {
   "cell_type": "markdown",
   "metadata": {},
   "source": [
    "## g) "
   ]
  },
  {
   "cell_type": "code",
   "execution_count": 99,
   "metadata": {
    "scrolled": true
   },
   "outputs": [
    {
     "name": "stdout",
     "output_type": "stream",
     "text": [
      "0.509  -0.507  -0.353  0.268  -0.659  4.111  \n",
      "0.343  -0.205  -0.060  -0.932  0.305  5.234  \n",
      "-0.384  0.934  0.737  -0.275  0.207  0.215  \n",
      "0.661  -0.902  0.072  0.805  0.808  6.160  \n",
      "-0.694  0.591  -0.864  -0.268  0.592  -3.839  \n",
      "0.044  0.988  -0.371  0.170  -0.369  1.877  \n",
      "-0.680  0.634  -0.310  -0.010  0.016  -2.195  \n",
      "-0.968  -0.224  -0.568  -0.579  0.566  -0.961  \n",
      "-0.156  -0.515  0.059  0.561  -0.772  5.636  \n",
      "-0.080  -0.768  -0.989  -0.584  0.617  -0.326  \n",
      "-0.546  0.332  -0.243  -0.611  -0.997  2.364  \n",
      "0.981  0.117  -0.668  0.452  -0.302  4.269  \n",
      "0.429  0.993  0.662  0.845  -0.905  6.054  \n",
      "0.667  0.695  -0.970  0.299  -0.517  3.712  \n",
      "0.827  0.325  0.527  -0.976  -0.609  2.442  \n",
      "0.767  -0.587  -0.907  -0.192  -0.657  2.333  \n",
      "0.148  0.320  -0.877  0.542  -0.114  3.918  \n",
      "0.620  0.794  -0.227  -0.700  0.194  1.091  \n",
      "-0.688  -0.116  0.634  -0.641  0.909  -5.962  \n",
      "0.976  0.953  0.027  0.588  0.905  5.581  \n",
      "0.842  0.462  -0.444  0.474  -0.291  4.238  \n",
      "0.111  -0.509  -0.271  0.101  -0.624  4.041  \n",
      "-0.760  0.129  0.366  -0.050  -0.540  4.926  \n",
      "-0.890  0.091  -0.301  0.199  -0.080  -1.036  \n",
      "0.713  0.772  0.573  0.317  -0.399  5.238  \n",
      "-0.921  0.944  -0.891  0.938  0.253  -3.624  \n",
      "0.425  -0.809  0.204  0.411  -0.581  8.057  \n",
      "0.611  0.627  0.292  -0.598  -0.092  3.513  \n",
      "-0.672  -0.015  -0.051  0.508  -0.071  -0.899  \n",
      "0.176  0.933  0.078  -0.709  -0.103  0.744  \n",
      "-0.273  -0.416  0.130  -0.985  -0.018  -0.384  \n",
      "-0.138  0.308  0.743  0.952  0.865  2.123  \n",
      "0.626  0.781  0.821  0.393  -0.695  4.059  \n",
      "0.648  -0.357  -0.925  0.055  -0.837  1.403  \n",
      "0.017  0.926  -0.283  0.910  0.313  -3.803  \n",
      "0.191  -0.969  0.418  0.463  0.542  3.239  \n",
      "0.969  -0.917  0.978  -0.649  -0.737  3.348  \n",
      "-0.820  0.796  -0.325  0.387  0.066  -3.282  \n",
      "-0.779  -0.703  0.990  -0.036  0.060  5.056  \n",
      "0.986  0.482  0.248  -0.069  0.329  2.321  \n",
      "-0.597  0.285  -0.709  -0.724  0.072  -1.238  \n",
      "-0.701  -0.796  -0.045  0.329  -0.430  1.792  \n",
      "0.426  -0.138  0.121  0.282  0.000  3.931  \n",
      "0.879  0.374  0.873  0.088  -0.539  4.712  \n",
      "0.852  0.175  0.503  0.061  0.908  6.034  \n",
      "0.346  -0.656  0.677  0.295  -0.136  3.070  \n",
      "-0.343  0.988  0.126  -0.496  0.958  -2.428  \n",
      "0.787  -0.442  0.721  0.819  0.035  7.979  \n",
      "-0.188  -0.461  0.858  -0.679  0.798  3.264  \n",
      "-0.512  -0.933  0.823  -0.282  -0.962  1.608  \n"
     ]
    }
   ],
   "source": [
    "pr(x)"
   ]
  },
  {
   "cell_type": "markdown",
   "metadata": {},
   "source": [
    "__TSS__:"
   ]
  },
  {
   "cell_type": "code",
   "execution_count": 100,
   "metadata": {},
   "outputs": [
    {
     "data": {
      "text/plain": [
       "517.104335804587"
      ]
     },
     "execution_count": 100,
     "metadata": {},
     "output_type": "execute_result"
    }
   ],
   "source": [
    "TSS"
   ]
  },
  {
   "cell_type": "code",
   "execution_count": 108,
   "metadata": {
    "scrolled": true
   },
   "outputs": [
    {
     "name": "stdout",
     "output_type": "stream",
     "text": [
      "CVSS = 253.31250168216332\n",
      "\n",
      " R2cv = 0.5101327060272615\n"
     ]
    }
   ],
   "source": [
    "CVSS = 0\n",
    "\n",
    "for i in np.arange(n):\n",
    "    y_i = x[i, -1]\n",
    "    x_star = psi[i, :]\n",
    "\n",
    "    psi_star = np.empty((n-1, p))\n",
    "    psi_star[:i,:] = psi[:i, :]\n",
    "    psi_star[i:,:] = psi[i+1:, :]\n",
    "\n",
    "    y_star = np.empty((n-1, 1))\n",
    "    y_star[:i] = Y[:i]\n",
    "    y_star[i:] = Y[i+1:]\n",
    "\n",
    "    F_star = np.dot(np.transpose(psi_star), psi_star)\n",
    "    Fisher_star = np.linalg.inv(F_star)\n",
    "    betta_tilda = np.dot(Fisher_star, np.dot(np.transpose(psi_star), y_star))[:,0]\n",
    "\n",
    "    y_tilda_i = np.dot(betta_tilda, x_star)\n",
    "    \n",
    "    cvss_i = (y_tilda_i - y_i)**2\n",
    "    CVSS += cvss_i\n",
    "print(\"CVSS =\", CVSS)\n",
    "\n",
    "R2cv = 1 - CVSS/TSS\n",
    "print(\"\\n R2cv =\", R2cv )"
   ]
  },
  {
   "cell_type": "markdown",
   "metadata": {},
   "source": [
    "## h) "
   ]
  },
  {
   "cell_type": "code",
   "execution_count": 102,
   "metadata": {},
   "outputs": [
    {
     "name": "stdout",
     "output_type": "stream",
     "text": [
      "[ 0.68921626 -0.74595143 -0.79419002 -0.78060627  0.47471963] [4.8070423  4.31574091 0.49813114 2.98860273 3.14909158] 2.7907961403787036\n",
      "delta = 1.5641333224649472\n",
      "p_value = 0.362756542167457\n",
      "нет оснований для отвержения гипотезы об адекватности модели\n"
     ]
    },
    {
     "data": {
      "image/png": "[encoded data removed]",
      "text/plain": [
       "<Figure size 432x288 with 1 Axes>"
      ]
     },
     "metadata": {
      "needs_background": "light"
     },
     "output_type": "display_data"
    }
   ],
   "source": [
    "# 1) генерируем точку измерения\n",
    "ksi = np.random.uniform(-1, 1, p-1)\n",
    "\n",
    "# 2) генерируем k=5 возможных значений \\eta\n",
    "k = 5\n",
    "eta = np.random.normal(2 + 3*ksi[0] - 2*ksi[1] + ksi[2] + ksi[3] - ksi[4], 1.5**2, k)\n",
    "\n",
    "# выборочное среднее квадратичное отклонение\n",
    "s2_star = 1/(k-1) * ((eta - eta.mean())**2).sum()\n",
    "\n",
    "print(ksi, eta, s2_star)\n",
    "\n",
    "# проверяем адекватнотсь модели\n",
    "if RSS <= (k-1)*s2_star:\n",
    "    print(\"модель адекватна\")\n",
    "else:\n",
    "    delta_tilda = RSS / ((n-p) * s2_star)\n",
    "    print(\"delta =\", delta_tilda)\n",
    "    \n",
    "    alpha = 0.05\n",
    "    p_value, _ = quad(FisherDistribution_px, delta_tilda, +np.inf, args=(n-p,k-1))\n",
    "    print(\"p_value =\", p_value)\n",
    "    \n",
    "    if p_value <= alpha:\n",
    "        print(\"модель НЕ адекватна\")\n",
    "    else:\n",
    "        print(\"нет оснований для отвержения гипотезы об адекватности модели\")\n",
    "\n",
    "    xx = np.linspace(0.01, 7, 1000)\n",
    "    func = FisherDistribution_px(xx, n-p, k-1)\n",
    "    plt.plot(xx, func)\n",
    "    plt.vlines(delta_tilda, func.min(), func.max(), color = '#4B0082')\n"
   ]
  },
  {
   "cell_type": "markdown",
   "metadata": {},
   "source": []
  },
  {
   "cell_type": "code",
   "execution_count": 103,
   "metadata": {},
   "outputs": [
    {
     "name": "stdout",
     "output_type": "stream",
     "text": [
      "наименее значим коэффициент betta[5]\n"
     ]
    }
   ],
   "source": [
    "ind_of_less_signif_coeff = np.argmin(np.abs(betta_significance_coefficient))\n",
    "print(f\"наименее значим коэффициент betta[{ind_of_less_signif_coeff}]\")"
   ]
  },
  {
   "cell_type": "markdown",
   "metadata": {},
   "source": [
    "повторим пункт b: определим уравнение линейной регрессии и проверим значимость коэффициентов"
   ]
  },
  {
   "cell_type": "code",
   "execution_count": 109,
   "metadata": {
    "scrolled": false
   },
   "outputs": [
    {
     "name": "stdout",
     "output_type": "stream",
     "text": [
      "betta_new[0] = 1.9686374217252594\n",
      "betta_new[1] = 2.948166878679523\n",
      "betta_new[2] = -1.4264530356759872\n",
      "betta_new[3] = 1.2903994972952535\n",
      "betta_new[4] = 1.3251259992581517\n",
      "\n",
      "delta_new[0] = 6.269460513481746\n",
      "delta_new[1] = 5.9240918688687305\n",
      "delta_new[2] = -2.928483097548621\n",
      "delta_new[3] = 2.421110103639906\n",
      "delta_new[4] = 2.3440846903179398\n",
      "\n",
      "Для распределения Стьюдента с числом степеней свободы 45, чтобы p-value было больше 0.05, нужно чтобы  модуль \n",
      "критерия был меньше 2.014103\n",
      "\n",
      "betta_new[0] значимо отличен от нуля\n",
      "betta_new[1] значимо отличен от нуля\n",
      "betta_new[2] значимо отличен от нуля\n",
      "betta_new[3] значимо отличен от нуля\n",
      "betta_new[4] значимо отличен от нуля\n"
     ]
    }
   ],
   "source": [
    "# 1) определение уравнения линейной регрессии\n",
    "n_new = 50\n",
    "p_new = 5\n",
    "\n",
    "PSI_new = np.zeros((n_new, p_new))\n",
    "PSI_new[:,:ind_of_less_signif_coeff] = psi[:,:ind_of_less_signif_coeff]\n",
    "PSI_new[:,ind_of_less_signif_coeff:] = psi[:,ind_of_less_signif_coeff+1:]\n",
    "\n",
    "Y_new = Y\n",
    "F_new = np.dot(np.transpose(PSI_new), PSI_new)\n",
    "Fisher_new = np.linalg.inv(F_new)\n",
    "\n",
    "betta_coefficient_new = np.dot(Fisher_new, np.dot(np.transpose(PSI_new), Y_new))\n",
    "for i in range(p_new):\n",
    "    print(f\"betta_new[{i}] = {betta_coefficient_new[i][0]}\")\n",
    "print()\n",
    "    \n",
    "# 2) проверка значимости коэффициентов\n",
    "e_new = Y_new - np.dot(PSI_new, betta_coefficient_new)\n",
    "RSS_new = np.dot(np.transpose(e_new), e_new)[0][0]\n",
    "\n",
    "betta_significance_coefficient_new = np.zeros(p_new)\n",
    "for i in range(p_new):\n",
    "    betta_significance_coefficient_new[i] = betta_coefficient_new[i][0] * np.sqrt(n_new - p_new) / np.sqrt(RSS_new * Fisher_new[i,i])\n",
    "    print(f\"delta_new[{i}] = {betta_significance_coefficient_new[i]}\")\n",
    "print()\n",
    "\n",
    "delta_krit_new = 2.014103\n",
    "print(f\"Для распределения Стьюдента с числом степеней свободы {n_new-p_new}, чтобы p-value было больше 0.05, нужно чтобы  модуль \\nкритерия был меньше {delta_krit_new}\")\n",
    "print()\n",
    "\n",
    "for i in range(p_new):\n",
    "    if np.abs(betta_significance_coefficient_new[i]) <= np.abs(delta_krit_new):\n",
    "        print(f\"betta_new[{i}] не значимо отличен от нуля\")\n",
    "    else:\n",
    "        print(f\"betta_new[{i}] значимо отличен от нуля\")  "
   ]
  },
  {
   "cell_type": "code",
   "execution_count": 112,
   "metadata": {},
   "outputs": [
    {
     "name": "stdout",
     "output_type": "stream",
     "text": [
      "R2_new = 0.5911801808343955\n",
      "delta = 1.3280192123360424  распределена по F(4,45)\n",
      "p_value = 0.2741624311999783\n",
      "Уравнение регрессии не значимо\n"
     ]
    },
    {
     "data": {
      "text/plain": [
       "<matplotlib.collections.LineCollection at 0x18eab0392e0>"
      ]
     },
     "execution_count": 112,
     "metadata": {},
     "output_type": "execute_result"
    },
    {
     "data": {
      "image/png": "[encoded data removed]",
      "text/plain": [
       "<Figure size 432x288 with 1 Axes>"
      ]
     },
     "metadata": {
      "needs_background": "light"
     },
     "output_type": "display_data"
    }
   ],
   "source": [
    "TSS_new = ((Y_new - Y_new.mean())**2).sum()\n",
    "\n",
    "# коэффициент детерминации - доля дисперсии отклика, которая объясняется регрессией\n",
    "R2_new = 1 - RSS_new/TSS_new\n",
    "print(\"R2_new =\", R2_new)\n",
    "\n",
    "# проверка значимости регрессии \n",
    "delta_tilda = R2_new/(1-R2_new) * (n_new-p_new)/(n_new-1)\n",
    "print(\"delta =\", delta_tilda, f\" распределена по F({p_new-1},{n_new-p_new})\")\n",
    "\n",
    "alpha = 0.05\n",
    "p_value, _ = quad(FisherDistribution_px, delta_tilda, +np.inf, args=(p_new-1,n_new-p_new))\n",
    "print(\"p_value =\", p_value)\n",
    "\n",
    "if p_value <= alpha:\n",
    "    print(\"Уравнение регрессии значимо\")\n",
    "    print(f\" Уравнение регрессии объясняет разброс отклика на {R2_new*100}% \")\n",
    "else:\n",
    "    print(\"Уравнение регрессии не значимо\")\n",
    "    \n",
    "xx = np.linspace(0.01, 7, 1000)\n",
    "func = FisherDistribution_px(xx, p_new-1, n_new-p_new)\n",
    "plt.plot(xx, func, color = '#800000')\n",
    "plt.vlines(delta_tilda, func.min(), func.max(), color = '#BC8F8F')"
   ]
  },
  {
   "cell_type": "markdown",
   "metadata": {},
   "source": [
    "сравним эти две регрессии"
   ]
  },
  {
   "cell_type": "code",
   "execution_count": 113,
   "metadata": {},
   "outputs": [
    {
     "name": "stdout",
     "output_type": "stream",
     "text": [
      "RSS1 = 211.4025010533813 p1 = 5\n",
      "RSS2 = 192.0677985324073 p2 = 6\n",
      "гипотеза о незначимости дополнительных коэффициентов отвергается. Есть существенное различие между \n",
      "регрессими\n"
     ]
    }
   ],
   "source": [
    "# параметры для регрессии с меньшим числом факторов\n",
    "RSS1 = RSS_new\n",
    "p1 = p_new\n",
    "\n",
    "# параметры для регрессии с бОльшим числом факторов\n",
    "RSS2 = RSS\n",
    "p2 = p\n",
    "\n",
    "print(\"RSS1 =\", RSS1, \"p1 =\", p1)\n",
    "print(\"RSS2 =\", RSS2, \"p2 =\", p2)\n",
    "\n",
    "if RSS2 > RSS1:\n",
    "    print(\"нет оснований отвергнуть гипотезу о незначимости дополнительных коэффициентов. Можно использовать упрощённую регрессию\")\n",
    "else:\n",
    "    delta_tilda = (RSS1 - RSS2)/RSS2 * (n-p2)/(p2-p1)\n",
    "    alpha = 0.05\n",
    "    p_value, _ = quad(FisherDistribution_px, delta_tilda, +np.inf, args=(p2-p1,n-p2))\n",
    "    if p_value > alpha:\n",
    "        print(\"нет оснований отвергнуть гипотезу о незначимости дополнительных коэффициентов. Можно использовать \\nупрощённую регрессию\")\n",
    "    else:\n",
    "        print(\"гипотеза о незначимости дополнительных коэффициентов отвергается. Есть существенное различие между \\nрегрессими\")\n"
   ]
  },
  {
   "cell_type": "markdown",
   "metadata": {},
   "source": [
    "## j) "
   ]
  },
  {
   "cell_type": "code",
   "execution_count": 114,
   "metadata": {},
   "outputs": [],
   "source": [
    "def regression_analysis(PSI, Y):\n",
    "    \"\"\"\n",
    "    по матрице наблюдений PSI, вектору отклика Y вернёт:\n",
    "    \n",
    "    1. betta_coefficient - оценку коэффицинетов регрессии\n",
    "    2. betta_significance_coefficient - коэффициенты значимости коэффициентов регрессии\n",
    "    3. err - вектор ошибок в эксперименте\n",
    "    4. Fisher - Матрицу Фишера, соответствующую данной регрессии\n",
    "    5. RSS - остаточную сумму квадратов\n",
    "    6. TSS - дисперсию отклика\n",
    "    7. R2 - коэффициент детерминации\n",
    "    \"\"\"\n",
    "    n, p = PSI.shape\n",
    "    \n",
    "    # 1) определение уравнения линейной регрессии\n",
    "\n",
    "    F = np.dot(np.transpose(PSI), PSI)\n",
    "    Fisher = np.linalg.inv(F) \n",
    "    betta_coefficient = np.dot(Fisher, np.dot(np.transpose(PSI),Y))\n",
    "\n",
    "    # 2) проверка значимости коэффициентов\n",
    "    \n",
    "    e = Y - np.dot(PSI, betta_coefficient)\n",
    "    RSS = np.dot(np.transpose(e), e)[0][0]\n",
    "    \n",
    "    betta_significance_coefficient = np.zeros(p)\n",
    "    for i in range(p):\n",
    "        betta_significance_coefficient[i] = betta_coefficient[i][0] * np.sqrt(n-p) / np.sqrt(RSS * Fisher[i,i])\n",
    "    \n",
    "    TSS = ((Y - Y.mean())**2).sum()\n",
    "    R2 = 1 - RSS/TSS\n",
    "    err = np.transpose(e)[0]\n",
    "\n",
    "    return betta_coefficient, betta_significance_coefficient, err, Fisher, RSS, TSS, R2"
   ]
  },
  {
   "cell_type": "code",
   "execution_count": 115,
   "metadata": {},
   "outputs": [
    {
     "data": {
      "text/plain": [
       "5"
      ]
     },
     "execution_count": 115,
     "metadata": {},
     "output_type": "execute_result"
    }
   ],
   "source": [
    "ind_of_less_signif_coeff"
   ]
  },
  {
   "cell_type": "code",
   "execution_count": 116,
   "metadata": {},
   "outputs": [],
   "source": [
    "n = 50\n",
    "p = 6\n",
    "p1 = 5\n",
    "p2 = 6\n",
    "\n",
    "N_but = 20000\n",
    "delta_star_list = np.empty(N_but)\n",
    "for but_iter in np.arange(N_but):\n",
    "    \n",
    "    x_star = x[np.random.randint(0,n,n),:]\n",
    "    \n",
    "    PSI2 = np.empty((n,p))\n",
    "    PSI2[:,0] = 1\n",
    "    PSI2[:,1:] = x_star[:,:-1]\n",
    "    Y2 = np.empty((n,1))\n",
    "    Y2[:,0] = x_star[:, -1]\n",
    "    \n",
    "    PSI1 = np.empty((n, p-1))\n",
    "    PSI1[:, :ind_of_less_signif_coeff] = PSI2[:,:ind_of_less_signif_coeff]\n",
    "    PSI1[:,ind_of_less_signif_coeff:] = PSI2[:, ind_of_less_signif_coeff+1:]\n",
    "    Y1 = Y2\n",
    "    \n",
    "    _, _, _, _, RSS1, _, _ = regression_analysis(PSI1, Y1)\n",
    "    _, _, _, _, RSS2, _, _ = regression_analysis(PSI2, Y2)\n",
    "    \n",
    "    delta_star = (RSS1 - RSS2)/RSS2 * (n-p2)/(p2-p1)\n",
    "    \n",
    "    delta_star_list[but_iter] = delta_star"
   ]
  },
  {
   "cell_type": "code",
   "execution_count": 117,
   "metadata": {},
   "outputs": [
    {
     "data": {
      "text/plain": [
       "array([10.66905538,  2.76770012,  0.14946565, ...,  3.15888887,\n",
       "       10.10730053,  4.48186168])"
      ]
     },
     "execution_count": 117,
     "metadata": {},
     "output_type": "execute_result"
    }
   ],
   "source": [
    "delta_star_list"
   ]
  },
  {
   "cell_type": "code",
   "execution_count": 118,
   "metadata": {},
   "outputs": [
    {
     "ename": "SyntaxError",
     "evalue": "expression cannot contain assignment, perhaps you meant \"==\"? (<ipython-input-118-05b5a601d6e1>, line 24)",
     "output_type": "error",
     "traceback": [
      "\u001b[1;36m  File \u001b[1;32m\"<ipython-input-118-05b5a601d6e1>\"\u001b[1;36m, line \u001b[1;32m24\u001b[0m\n\u001b[1;33m    plt.hist(delta_star_list, khist. color = '#4B0082')\u001b[0m\n\u001b[1;37m                              ^\u001b[0m\n\u001b[1;31mSyntaxError\u001b[0m\u001b[1;31m:\u001b[0m expression cannot contain assignment, perhaps you meant \"==\"?\n"
     ]
    }
   ],
   "source": [
    "delta_star_list = np.sort(delta_star_list)\n",
    "k = 1\n",
    "for i in np.arange(1, N_but):\n",
    "    if (delta_star_list[i-1] < delta_tilda) and (delta_tilda <= delta_star_list[i]):\n",
    "        k = i\n",
    "        break\n",
    "\n",
    "p_value = 1 - (k-1)/N_but\n",
    "print(\"k =\",k)\n",
    "print(\"p_value = \", p_value)\n",
    "\n",
    "alpha = 0.05\n",
    "if p_value > alpha:\n",
    "    print(\"нет оснований отвергнуть гипотезу о незначимости дополнительных коэффициентов. Можно использовать упрощённую регрессию\")\n",
    "else:\n",
    "    print(\"гипотеза о незначимости дополнительных коэффициентов отвергается. Есть существенное различие между \\nрегрессими\")\n",
    "\n",
    "    \n",
    "    \n",
    "\n",
    "khist = int(1 + np.trunc(np.log2(N_but)))\n",
    "hist = np.histogram(delta_star_list, khist)\n",
    "\n",
    "plt.hist(delta_star_list, khist. color = '#4B0082')\n",
    "plt.yticks([hist[0][i] for i in range(1,khist,2)])\n",
    "plt.xticks([hist[1][i] for i in range(0,khist,2)])\n",
    "plt.vlines(delta_tilda, 0, hist[0].max())\n",
    "plt.xlim(hist[1].min(), hist[1].max())"
   ]
  },
  {
   "cell_type": "code",
   "execution_count": null,
   "metadata": {},
   "outputs": [],
   "source": []
  }
 ],
 "metadata": {
  "kernelspec": {
   "display_name": "Python 3",
   "language": "python",
   "name": "python3"
  },
  "language_info": {
   "codemirror_mode": {
    "name": "ipython",
    "version": 3
   },
   "file_extension": ".py",
   "mimetype": "text/x-python",
   "name": "python",
   "nbconvert_exporter": "python",
   "pygments_lexer": "ipython3",
   "version": "3.8.5"
  },
  "latex_envs": {
   "LaTeX_envs_menu_present": true,
   "autoclose": true,
   "autocomplete": true,
   "bibliofile": "biblio.bib",
   "cite_by": "apalike",
   "current_citInitial": 1,
   "eqLabelWithNumbers": true,
   "eqNumInitial": 1,
   "hotkeys": {
    "equation": "Ctrl-E",
    "itemize": "Ctrl-I"
   },
   "labels_anchors": false,
   "latex_user_defs": false,
   "report_style_numbering": false,
   "user_envs_cfg": false
  },
  "toc": {
   "base_numbering": 1,
   "nav_menu": {
    "height": "503px",
    "width": "1027px"
   },
   "number_sections": true,
   "sideBar": true,
   "skip_h1_title": false,
   "title_cell": "Table of Contents",
   "title_sidebar": "Contents",
   "toc_cell": false,
   "toc_position": {},
   "toc_section_display": true,
   "toc_window_display": false
  }
 },
 "nbformat": 4,
 "nbformat_minor": 4
}
