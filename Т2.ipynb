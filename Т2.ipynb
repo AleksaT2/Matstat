{
 "cells": [
  {
   "cell_type": "code",
   "execution_count": 13,
   "metadata": {},
   "outputs": [],
   "source": [
    "import numpy as np\n",
    "import matplotlib.pyplot as plt\n",
    "from scipy.integrate import quad\n",
    "import math"
   ]
  },
  {
   "cell_type": "code",
   "execution_count": 14,
   "metadata": {},
   "outputs": [],
   "source": [
    "def StudentDistribution_px(x, m):\n",
    "    return m**(m/2) * math.gamma((m+1)/2) / (np.sqrt(np.pi) * math.gamma(m/2) * (x**2 + m)**((m+1)/2))\n",
    "def NormDistribution_px(x, a, s2):\n",
    "        return (1/np.sqrt(2 * np.pi * s2) * np.exp(-1 * (x - a)**2 / (2*s2)))\n",
    "\n",
    "def NormDistribution_Fx(x, a, s2):\n",
    "    i, e = quad(NormDistribution_px, -np.inf, x, args = (a,s2))\n",
    "    return i\n",
    "\n",
    "def FisherDistribution_px(x, n, m):\n",
    "    return n**(n/2) * m**(m/2) * x**(n/2 - 1) * math.gamma((n+m)/2) / ( (m+n*x)**((n+m)/2) * math.gamma(n/2) * math.gamma(m/2) )\n",
    "\n",
    "def F_empir(v, prom):\n",
    "    n = len(v)\n",
    "    x = prom\n",
    "    F_tilda = np.array([len(np.where(v < i)[0])/n for i in x])\n",
    "    return F_tilda"
   ]
  },
  {
   "cell_type": "code",
   "execution_count": 15,
   "metadata": {},
   "outputs": [],
   "source": [
    "def regression_analysis(PSI, Y):\n",
    "    \n",
    "    n, p = PSI.shape\n",
    "\n",
    "    F = np.dot(np.transpose(PSI), PSI)\n",
    "    Fisher = np.linalg.inv(F) \n",
    "    betta_coefficient = np.dot(Fisher, np.dot(np.transpose(PSI),Y))\n",
    "    \n",
    "    e = Y - np.dot(PSI, betta_coefficient)\n",
    "    RSS = np.dot(np.transpose(e), e)[0][0]\n",
    "    \n",
    "    betta_significance_coefficient = np.zeros(p)\n",
    "    for i in range(p):\n",
    "        betta_significance_coefficient[i] = betta_coefficient[i][0] * np.sqrt(n-p) / np.sqrt(RSS * Fisher[i,i])\n",
    "    \n",
    "    betta_p_value = np.zeros(p)\n",
    "    for i in range(p):\n",
    "        betta_p_value[i], _ = quad(StudentDistribution_px, betta_significance_coefficient[i], +np.inf, args=(n-p))\n",
    "        betta_p_value[i] *= 2\n",
    "    \n",
    "    \n",
    "    TSS = ((Y - Y.mean())**2).sum()\n",
    "    R2 = 1 - RSS/TSS\n",
    "    err = np.transpose(e)[0]\n",
    "\n",
    "    delta_regr = R2/(1 - R2) * (n-p)/(p-1)\n",
    "    regression_p_value, _ = quad(FisherDistribution_px, delta_regr, +np.inf, args=(p-1, n-p))\n",
    "    \n",
    "    return betta_coefficient, betta_p_value, err, Fisher, RSS, TSS, R2, regression_p_value"
   ]
  },
  {
   "cell_type": "markdown",
   "metadata": {},
   "source": [
    "# T2"
   ]
  },
  {
   "cell_type": "code",
   "execution_count": 16,
   "metadata": {},
   "outputs": [
    {
     "name": "stdout",
     "output_type": "stream",
     "text": [
      "1 : [83 85] : 2\n",
      "2 : [64 85 85 86 86 87] : 6\n",
      "3 : [86 87 87 87 88 88 88 88 88 89 90] : 11\n",
      "4 : [89 90 90 91] : 4\n",
      "5 : [90 92] : 2\n"
     ]
    }
   ],
   "source": [
    "group_to_persents = {1: np.array([83,85]), 2: np.array([64, 85, 85, 86, 86, 87])}\n",
    "group_to_persents[3] = np.array([86, 87, 87, 87, 88, 88, 88, 88, 88, 89, 90])\n",
    "group_to_persents[4] = np.array([89, 90, 90, 91])\n",
    "group_to_persents[5] = np.array([90, 92])\n",
    "groups = np.array([1,2,3,4,5])\n",
    "for gr in groups:\n",
    "    print(f\"{gr} : {group_to_persents[gr]} : {len(group_to_persents[gr])}\")"
   ]
  },
  {
   "cell_type": "markdown",
   "metadata": {},
   "source": [
    "## a) "
   ]
  },
  {
   "cell_type": "code",
   "execution_count": 17,
   "metadata": {},
   "outputs": [
    {
     "data": {
      "text/plain": [
       "array([[ 1,  0,  0,  0,  0, 83],\n",
       "       [ 1,  0,  0,  0,  0, 85],\n",
       "       [ 0,  1,  0,  0,  0, 64],\n",
       "       [ 0,  1,  0,  0,  0, 85],\n",
       "       [ 0,  1,  0,  0,  0, 85],\n",
       "       [ 0,  1,  0,  0,  0, 86],\n",
       "       [ 0,  1,  0,  0,  0, 86],\n",
       "       [ 0,  1,  0,  0,  0, 87],\n",
       "       [ 0,  0,  1,  0,  0, 86],\n",
       "       [ 0,  0,  1,  0,  0, 87],\n",
       "       [ 0,  0,  1,  0,  0, 87],\n",
       "       [ 0,  0,  1,  0,  0, 87],\n",
       "       [ 0,  0,  1,  0,  0, 88],\n",
       "       [ 0,  0,  1,  0,  0, 88],\n",
       "       [ 0,  0,  1,  0,  0, 88],\n",
       "       [ 0,  0,  1,  0,  0, 88],\n",
       "       [ 0,  0,  1,  0,  0, 88],\n",
       "       [ 0,  0,  1,  0,  0, 89],\n",
       "       [ 0,  0,  1,  0,  0, 90],\n",
       "       [ 0,  0,  0,  1,  0, 89],\n",
       "       [ 0,  0,  0,  1,  0, 90],\n",
       "       [ 0,  0,  0,  1,  0, 90],\n",
       "       [ 0,  0,  0,  1,  0, 91],\n",
       "       [ 0,  0,  0,  0,  1, 90],\n",
       "       [ 0,  0,  0,  0,  1, 92]])"
      ]
     },
     "execution_count": 17,
     "metadata": {},
     "output_type": "execute_result"
    }
   ],
   "source": [
    "n = sum(len(group_to_persents[gr]) for gr in groups)\n",
    "p = len(groups)\n",
    "\n",
    "PSI = np.zeros((p,n), dtype=int)\n",
    "for i in range(p):\n",
    "    b = sum(len(group_to_persents[gr]) for gr in groups[:i])\n",
    "    e = sum(len(group_to_persents[gr]) for gr in groups[:i+1])\n",
    "    PSI[i,b:e] = 1\n",
    "PSI = np.transpose(PSI)\n",
    "\n",
    "Y = []\n",
    "for i in groups:\n",
    "    for ps in group_to_persents[i]:\n",
    "        Y.append(ps)\n",
    "Y = np.transpose(np.array([Y]))\n",
    "\n",
    "np.concatenate((PSI,Y), axis=1)"
   ]
  },
  {
   "cell_type": "code",
   "execution_count": 18,
   "metadata": {},
   "outputs": [],
   "source": [
    "betta_coefficient, betta_p_value, err, Fisher, RSS, TSS, R2, regression_p_value = regression_analysis(PSI, Y)"
   ]
  },
  {
   "cell_type": "code",
   "execution_count": 19,
   "metadata": {},
   "outputs": [
    {
     "data": {
      "text/plain": [
       "array([[0.5       , 0.        , 0.        , 0.        , 0.        ],\n",
       "       [0.        , 0.16666667, 0.        , 0.        , 0.        ],\n",
       "       [0.        , 0.        , 0.09090909, 0.        , 0.        ],\n",
       "       [0.        , 0.        , 0.        , 0.25      , 0.        ],\n",
       "       [0.        , 0.        , 0.        , 0.        , 0.5       ]])"
      ]
     },
     "execution_count": 19,
     "metadata": {},
     "output_type": "execute_result"
    }
   ],
   "source": [
    "Fisher"
   ]
  },
  {
   "cell_type": "code",
   "execution_count": 20,
   "metadata": {},
   "outputs": [
    {
     "name": "stdout",
     "output_type": "stream",
     "text": [
      "betta[0] = 84.000000, p-value = 0.000000 коэффициент значимо отличен от нуля\n",
      "betta[1] = 82.166667, p-value = 0.000000 коэффициент значимо отличен от нуля\n",
      "betta[2] = 87.818182, p-value = 0.000000 коэффициент значимо отличен от нуля\n",
      "betta[3] = 90.000000, p-value = 0.000000 коэффициент значимо отличен от нуля\n",
      "betta[4] = 91.000000, p-value = 0.000000 коэффициент значимо отличен от нуля\n"
     ]
    }
   ],
   "source": [
    "alpha = 0.05\n",
    "for i in range(p):\n",
    "    print(\"betta[{}] = {:3f}, p-value = {:3f}\".format(i, betta_coefficient[i][0], betta_p_value[i]), end=\" \")\n",
    "    if betta_p_value[i] <= alpha :\n",
    "        print(\"коэффициент значимо отличен от нуля\")\n",
    "    else:\n",
    "        print(\"коэффициент не значимо отличен от нуля\")\n",
    "    "
   ]
  },
  {
   "cell_type": "code",
   "execution_count": 21,
   "metadata": {},
   "outputs": [
    {
     "data": {
      "text/plain": [
       "(416.469696969697, 648.56, 0.3578547906597739, 0.05458335566236725)"
      ]
     },
     "execution_count": 21,
     "metadata": {},
     "output_type": "execute_result"
    }
   ],
   "source": [
    "RSS, TSS, R2, regression_p_value"
   ]
  },
  {
   "cell_type": "code",
   "execution_count": 25,
   "metadata": {},
   "outputs": [
    {
     "name": "stdout",
     "output_type": "stream",
     "text": [
      "нет оснований для отклонения гипотезы \n"
     ]
    }
   ],
   "source": [
    "alpha = 0.05\n",
    "if regression_p_value <= alpha:\n",
    "    print(\"регрессия значима\")\n",
    "else:\n",
    "    print(\"нет оснований для отклонения гипотезы \")"
   ]
  },
  {
   "cell_type": "markdown",
   "metadata": {},
   "source": [
    "## b) "
   ]
  },
  {
   "cell_type": "code",
   "execution_count": 24,
   "metadata": {},
   "outputs": [
    {
     "name": "stdout",
     "output_type": "stream",
     "text": [
      "p-value =  0.000000\n",
      "группы 0 и 1 одинаковы\n",
      "p-value =  0.000000\n",
      "группы 0 и 2 одинаковы\n",
      "p-value =  0.000000\n",
      "группы 0 и 3 одинаковы\n",
      "p-value =  0.000000\n",
      "группы 0 и 4 одинаковы\n",
      "p-value =  1.000000\n",
      "группы 1 и 2 различаются\n",
      "p-value =  1.000000\n",
      "группы 1 и 3 различаются\n",
      "p-value =  1.000000\n",
      "группы 1 и 4 различаются\n",
      "p-value =  2.000000\n",
      "группы 2 и 3 одинаковы\n",
      "p-value =  2.000000\n",
      "группы 2 и 4 одинаковы\n",
      "p-value =  3.000000\n",
      "группы 3 и 4 одинаковы\n"
     ]
    }
   ],
   "source": [
    "alpha = 0.05\n",
    "for i in np.arange(p):\n",
    "    for j in np.arange(i+1,p):\n",
    "        delta_tilda = (betta_coefficient[i] - betta_coefficient[j]) / np.sqrt(RSS * (Fisher[i,i] + Fisher[j, j])) * np.sqrt(n-p)\n",
    "        p_value, _ = quad(StudentDistribution_px, np.abs(delta_tilda), +np.inf, args=(n-p))\n",
    "        p_value *= 2\n",
    "        print(\"p-value = {: 2f}\".format(i, j, p_value))\n",
    "        if p_value <= alpha:\n",
    "            print(f\"группы {i} и {j} различаются\")\n",
    "        else:\n",
    "            print(f\"группы {i} и {j} одинаковы\")"
   ]
  },
  {
   "cell_type": "code",
   "execution_count": null,
   "metadata": {},
   "outputs": [],
   "source": []
  },
  {
   "cell_type": "code",
   "execution_count": null,
   "metadata": {},
   "outputs": [],
   "source": []
  }
 ],
 "metadata": {
  "kernelspec": {
   "display_name": "Python 3",
   "language": "python",
   "name": "python3"
  },
  "language_info": {
   "codemirror_mode": {
    "name": "ipython",
    "version": 3
   },
   "file_extension": ".py",
   "mimetype": "text/x-python",
   "name": "python",
   "nbconvert_exporter": "python",
   "pygments_lexer": "ipython3",
   "version": "3.8.5"
  },
  "latex_envs": {
   "LaTeX_envs_menu_present": true,
   "autoclose": true,
   "autocomplete": true,
   "bibliofile": "biblio.bib",
   "cite_by": "apalike",
   "current_citInitial": 1,
   "eqLabelWithNumbers": true,
   "eqNumInitial": 1,
   "hotkeys": {
    "equation": "Ctrl-E",
    "itemize": "Ctrl-I"
   },
   "labels_anchors": false,
   "latex_user_defs": false,
   "report_style_numbering": false,
   "user_envs_cfg": false
  },
  "toc": {
   "base_numbering": 1,
   "nav_menu": {},
   "number_sections": true,
   "sideBar": true,
   "skip_h1_title": false,
   "title_cell": "Table of Contents",
   "title_sidebar": "Contents",
   "toc_cell": false,
   "toc_position": {},
   "toc_section_display": true,
   "toc_window_display": false
  }
 },
 "nbformat": 4,
 "nbformat_minor": 4
}
